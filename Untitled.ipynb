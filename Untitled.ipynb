{
 "cells": [
  {
   "cell_type": "code",
   "execution_count": 5,
   "id": "511242fa-6e6a-4f48-8c3a-1a60c093c66d",
   "metadata": {},
   "outputs": [],
   "source": [
    "import matplotlib"
   ]
  },
  {
   "cell_type": "code",
   "execution_count": 6,
   "id": "48a51748-cd22-4149-a65f-aca8c56171f6",
   "metadata": {},
   "outputs": [
    {
     "name": "stdout",
     "output_type": "stream",
     "text": [
      "/home/nicegeek/miniconda3/envs/stan/lib/python3.8/site-packages/matplotlib/mpl-data/matplotlibrc\n"
     ]
    }
   ],
   "source": [
    "print(matplotlib.matplotlib_fname())"
   ]
  },
  {
   "cell_type": "code",
   "execution_count": 7,
   "id": "019d0374-22a1-48af-b7d6-744a5b8d47ef",
   "metadata": {},
   "outputs": [],
   "source": [
    "import matplotlib.font_manager"
   ]
  },
  {
   "cell_type": "code",
   "execution_count": 8,
   "id": "a7b31ad1-f1fb-4082-812b-0cf150610f93",
   "metadata": {},
   "outputs": [
    {
     "name": "stderr",
     "output_type": "stream",
     "text": [
      "Matplotlib is building the font cache; this may take a moment.\n"
     ]
    }
   ],
   "source": [
    "matplotlib.font_manager._rebuild()"
   ]
  },
  {
   "cell_type": "code",
   "execution_count": 9,
   "id": "ec43ca91-56c6-4287-a1f2-c8291dec025a",
   "metadata": {},
   "outputs": [
    {
     "data": {
      "text/plain": [
       "[<Font 'STSong' (STSong.ttf) normal normal 400 normal>,\n",
       " <Font 'STSong' (STSong.ttf) normal normal 400 normal>]"
      ]
     },
     "execution_count": 9,
     "metadata": {},
     "output_type": "execute_result"
    }
   ],
   "source": [
    "[f for f in matplotlib.font_manager.fontManager.ttflist if \"STSong\" in f.name]"
   ]
  },
  {
   "cell_type": "code",
   "execution_count": 1,
   "id": "f18d7d58-65c7-43ab-aa1f-64a018898bbf",
   "metadata": {},
   "outputs": [],
   "source": [
    "import properscoring as ps"
   ]
  },
  {
   "cell_type": "code",
   "execution_count": null,
   "id": "f9d52b54-82dd-4d3d-8eae-29be6de6a68b",
   "metadata": {},
   "outputs": [],
   "source": [
    "import properscoring"
   ]
  }
 ],
 "metadata": {
  "kernelspec": {
   "display_name": "Python [conda env:GPTor_cuda]",
   "language": "python",
   "name": "conda-env-GPTor_cuda-py"
  },
  "language_info": {
   "codemirror_mode": {
    "name": "ipython",
    "version": 3
   },
   "file_extension": ".py",
   "mimetype": "text/x-python",
   "name": "python",
   "nbconvert_exporter": "python",
   "pygments_lexer": "ipython3",
   "version": "3.8.8"
  }
 },
 "nbformat": 4,
 "nbformat_minor": 5
}
