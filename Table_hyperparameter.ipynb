{
 "cells": [
  {
   "cell_type": "code",
   "execution_count": 1,
   "id": "29b0c8a9-649d-479b-9c04-42c0571168f8",
   "metadata": {},
   "outputs": [],
   "source": [
    "import latextable\n",
    "from texttable import Texttable"
   ]
  },
  {
   "cell_type": "code",
   "execution_count": null,
   "id": "0df47184-ee2e-4a3d-8c62-61f7b87be5a4",
   "metadata": {},
   "outputs": [],
   "source": [
    "table = Texttable()\n",
    "table.set_cols_align([\"c\", \"c\", \"c\"])\n",
    "table.set_cols_dtype([\"t\", \"t\", \"f\"])\n",
    "table.set_precision(4)\n",
    "table.add_rows(\n",
    "    [\n",
    "        [\"Transformation Unit\", \"Name\", \"Value\"],\n",
    "        [\n",
    "            \"ATU_1\",\n",
    "            \"$\\alpha$\",\n",
    "        ],\n",
    "        [\n",
    "            \"IDW Nearest Neighbor\",\n",
    "            MAPE(true_rss, predict_iwdnn, idx),\n",
    "            RMSE(true_rss, predict_iwdnn, idx),\n",
    "            \"None\",\n",
    "        ],\n",
    "        [\n",
    "            \"Ordinary Kriging\",\n",
    "            MAPE(true_rss, predict_ok_mean, idx),\n",
    "            RMSE(true_rss, predict_ok_mean, idx),\n",
    "            CRPS(true_rss, predict_ok_mean, predict_ok_var, idx),\n",
    "        ],\n",
    "    ]\n",
    ")"
   ]
  }
 ],
 "metadata": {
  "kernelspec": {
   "display_name": "Python [conda env:GPTor_cuda]",
   "language": "python",
   "name": "conda-env-GPTor_cuda-py"
  },
  "language_info": {
   "codemirror_mode": {
    "name": "ipython",
    "version": 3
   },
   "file_extension": ".py",
   "mimetype": "text/x-python",
   "name": "python",
   "nbconvert_exporter": "python",
   "pygments_lexer": "ipython3",
   "version": "3.8.8"
  }
 },
 "nbformat": 4,
 "nbformat_minor": 5
}
