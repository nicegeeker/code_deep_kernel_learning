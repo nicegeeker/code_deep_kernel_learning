{
 "cells": [
  {
   "cell_type": "code",
   "execution_count": 1,
   "id": "3a7fed37",
   "metadata": {},
   "outputs": [],
   "source": [
    "import properscoring as ps"
   ]
  },
  {
   "cell_type": "code",
   "execution_count": 2,
   "id": "4b41028e",
   "metadata": {},
   "outputs": [],
   "source": [
    "crps = ps.crps_gaussian"
   ]
  },
  {
   "cell_type": "code",
   "execution_count": 12,
   "id": "afffbf3d",
   "metadata": {},
   "outputs": [
    {
     "data": {
      "text/plain": [
       "0.46738995451021825"
      ]
     },
     "execution_count": 12,
     "metadata": {},
     "output_type": "execute_result"
    }
   ],
   "source": [
    "crps(0, 0, 2)"
   ]
  },
  {
   "cell_type": "code",
   "execution_count": null,
   "id": "2f11e6bb",
   "metadata": {},
   "outputs": [],
   "source": []
  }
 ],
 "metadata": {
  "kernelspec": {
   "display_name": "Python [conda env:GPTor_cuda]",
   "language": "python",
   "name": "conda-env-GPTor_cuda-py"
  },
  "language_info": {
   "codemirror_mode": {
    "name": "ipython",
    "version": 3
   },
   "file_extension": ".py",
   "mimetype": "text/x-python",
   "name": "python",
   "nbconvert_exporter": "python",
   "pygments_lexer": "ipython3",
   "version": "3.8.8"
  }
 },
 "nbformat": 4,
 "nbformat_minor": 5
}
