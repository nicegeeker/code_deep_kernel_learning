{
 "cells": [
  {
   "cell_type": "code",
   "execution_count": 1,
   "id": "supreme-theory",
   "metadata": {},
   "outputs": [
    {
     "name": "stdout",
     "output_type": "stream",
     "text": [
      "Using cuda device\n"
     ]
    }
   ],
   "source": [
    "import gpytorch\n",
    "import matplotlib.pyplot as plt\n",
    "import torch\n",
    "from func_data_generation import *\n",
    "from func_polygon import *\n",
    "\n",
    "# from torchsummary import summary\n",
    "from my_linear_kernel import MyLinearKernel\n",
    "from torch import nn\n",
    "from utils import *\n",
    "from warp_units import *\n",
    "\n",
    "dtype = torch.double\n",
    "device = \"cuda\" if torch.cuda.is_available() else \"cpu\"\n",
    "# device =  \"cpu\"\n",
    "print(\"Using {} device\".format(device))\n",
    "\n",
    "import tqdm\n",
    "\n",
    "torch.set_default_dtype(dtype)\n",
    "%matplotlib inline\n",
    "%load_ext autoreload\n",
    "%autoreload 2\n",
    "\n",
    "from datetime import datetime\n",
    "\n",
    "from torch.utils.tensorboard import SummaryWriter"
   ]
  },
  {
   "cell_type": "code",
   "execution_count": 2,
   "id": "physical-adaptation",
   "metadata": {},
   "outputs": [],
   "source": [
    "class QuodralMean(gpytorch.means.Mean):\n",
    "    def __init__(self):\n",
    "        super().__init__()\n",
    "        self.register_parameter(\n",
    "            name=\"weights\",\n",
    "            parameter=torch.nn.Parameter(torch.randn(5, 1)),\n",
    "        )\n",
    "        self.register_parameter(\n",
    "            name=\"bias\", parameter=torch.nn.Parameter(torch.randn(1))\n",
    "        )\n",
    "\n",
    "    def forward(self, x):\n",
    "        xx = torch.stack(\n",
    "            (\n",
    "                x[:, 0] * x[:, 0],\n",
    "                x[:, 0] * x[:, 1],\n",
    "                x[:, 1] * x[:, 1],\n",
    "                x[:, 0],\n",
    "                x[:, 1],\n",
    "            ),\n",
    "            dim=1,\n",
    "        )\n",
    "        res = xx.matmul(self.weights).squeeze(-1)\n",
    "        return res + self.bias\n",
    "\n",
    "\n",
    "class ExactGPModel(gpytorch.models.ExactGP):\n",
    "    def __init__(self, train_x, train_y, likelihood):\n",
    "        super(ExactGPModel, self).__init__(train_x, train_y, likelihood)\n",
    "        self.mean_module = gpytorch.means.ZeroMean()\n",
    "        #         self.mean_module = QuodralMean()\n",
    "        #         self.covar_module = gpytorch.kernels.LinearKernel(\n",
    "        #             num_dimensions=2\n",
    "        #         ) * gpytorch.kernels.LinearKernel(num_dimensions=2)\n",
    "        self.covar_module = gpytorch.kernels.ScaleKernel(\n",
    "            gpytorch.kernels.PolynomialKernel(power=2)\n",
    "        )\n",
    "\n",
    "        self.register_parameter(\n",
    "            name=\"offset\", parameter=torch.nn.Parameter(torch.zeros(1, 2))\n",
    "        )\n",
    "\n",
    "    def forward(self, x):\n",
    "        mean_x = self.mean_module(x)\n",
    "        covar_x = self.covar_module(x - self.offset)\n",
    "        return gpytorch.distributions.MultivariateNormal(mean_x, covar_x)"
   ]
  },
  {
   "cell_type": "code",
   "execution_count": 3,
   "id": "7558d5f2-0bd0-4afc-a790-6bc63696dd4b",
   "metadata": {},
   "outputs": [],
   "source": [
    "data_num = 4\n",
    "sensor_num = 200  # [50, 100, 150, 200, 250, 300, 350, 400, 450, 500]\n",
    "\n",
    "# load data\n",
    "data_filename = DATA_PATH + \"/datasets_\" + str(data_num) + \".hd5f\"\n",
    "\n",
    "if os.path.exists(data_filename):\n",
    "    with h5py.File(data_filename, \"r\") as f1:\n",
    "        coords = f1[\"coords\"][...]\n",
    "        true_rss = f1[\"true_rss\"][...]\n",
    "        observed_rss = f1[\"observed_rss\"][...]\n",
    "        train_X = f1[\"train_\" + str(sensor_num) + \"/train_X\"][...]\n",
    "        train_y = f1[\"train_\" + str(sensor_num) + \"/train_y\"][...]\n",
    "        idx = f1[\"train_\" + str(sensor_num) + \"/idx\"][...]"
   ]
  },
  {
   "cell_type": "code",
   "execution_count": 4,
   "id": "575795a2-9936-4ca0-85c0-218e9e17f89d",
   "metadata": {},
   "outputs": [],
   "source": [
    "# Normalize train_X to 0-1\n",
    "train_X_tensor = torch.from_numpy(train_X).to(device) / 1000\n",
    "coords_tensor = torch.from_numpy(coords).to(device) / 1000\n",
    "\n",
    "train_y_tensor = torch.from_numpy(train_y).to(device)\n",
    "train_y_mean = train_y_tensor.mean()\n",
    "train_y_tensor = train_y_tensor - train_y_mean\n",
    "# train_y_sigma = torch.sqrt(train_y_tensor.var())\n",
    "# train_y_tensor = (train_y_tensor - train_y_mean) / train_y_sigma"
   ]
  },
  {
   "cell_type": "code",
   "execution_count": 5,
   "id": "ready-poster",
   "metadata": {},
   "outputs": [],
   "source": [
    "# initialize likelihood and model\n",
    "\n",
    "likelihood = gpytorch.likelihoods.GaussianLikelihood().to(device)\n",
    "model = ExactGPModel(train_X_tensor, train_y_tensor, likelihood).to(device)\n",
    "model.likelihood.noise = 0.2\n",
    "# model.covar_module.base_kernel.lengthscale = 1\n",
    "# model.covar_module.outputscale = 50"
   ]
  },
  {
   "cell_type": "code",
   "execution_count": 6,
   "id": "noticed-crystal",
   "metadata": {},
   "outputs": [
    {
     "name": "stdout",
     "output_type": "stream",
     "text": [
      "Layer:offset | Size:torch.Size([1, 2]) | Values : Parameter containing:\n",
      "tensor([[0., 0.]], device='cuda:0', requires_grad=True) \n",
      "\n",
      "Layer:likelihood.noise_covar.raw_noise | Size:torch.Size([1]) | Values : Parameter containing:\n",
      "tensor([-1.5083], device='cuda:0', requires_grad=True) \n",
      "\n",
      "Layer:covar_module.raw_outputscale | Size:torch.Size([]) | Values : 0.0 \n",
      "\n",
      "Layer:covar_module.base_kernel.raw_offset | Size:torch.Size([1]) | Values : Parameter containing:\n",
      "tensor([0.], device='cuda:0', requires_grad=True) \n",
      "\n"
     ]
    }
   ],
   "source": [
    "for name, param in model.named_parameters():\n",
    "    print(f\"Layer:{name} | Size:{param.size()} | Values : {param} \\n\")\n",
    "#     print(f\"Layer:{name} | Size:{param.size()} |  \\n\")"
   ]
  },
  {
   "cell_type": "code",
   "execution_count": 7,
   "id": "collective-traffic",
   "metadata": {},
   "outputs": [],
   "source": [
    "model.train()\n",
    "likelihood.train()\n",
    "# Use the adam optimizer\n",
    "optimizer = torch.optim.Adam(\n",
    "    [\n",
    "        {\"params\": model.offset},\n",
    "        {\"params\": model.covar_module.parameters()},\n",
    "        #         {\"params\": model.mean_module.parameters()},\n",
    "        #         {\"params\": model.likelihood.parameters()},\n",
    "    ],\n",
    "    lr=0.01,\n",
    ")\n",
    "\n",
    "# \"Loss\" for GPs - the marginal log likelihood\n",
    "mll = gpytorch.mlls.ExactMarginalLogLikelihood(likelihood, model)\n",
    "\n",
    "\n",
    "def train():\n",
    "    iterator = tqdm.notebook.tqdm(range(training_iterations))\n",
    "    for i, j in enumerate(iterator):\n",
    "        # Zero backprop gradients\n",
    "        optimizer.zero_grad()\n",
    "        # Get output from model\n",
    "        output = model(train_X_tensor)\n",
    "        # Calc loss and backprop derivatives\n",
    "        loss = -mll(output, train_y_tensor)\n",
    "        loss.backward()\n",
    "        #         iterator.set_postfix(\n",
    "        #             loss=loss.item(),\n",
    "        #             #             output_scale=model.covar_module.outputscale.item(),\n",
    "        #             #             big_output_scale=model.covar_module.kernels[1].outputscale.item(),\n",
    "        #             #             big_lengthscale=model.covar_module.kernels[\n",
    "        #             #                 1\n",
    "        #             #             ].base_kernel.lengthscale.item(),\n",
    "        #             #             leng_scale=model.covar_module.kernels.base_kernel.lengthscale.item(),\n",
    "        #             noise=model.likelihood.noise.item(),\n",
    "        #         )\n",
    "        if i % 10 == 9:\n",
    "            writer.add_scalar(\"loss\", loss.item(), i)\n",
    "            writer.add_scalar(\"offset0\", model.offset[0, 0].item(), i)\n",
    "            writer.add_scalar(\"offset1\", model.offset[0, 1].item(), i)\n",
    "        #             writer.add_scalar(\"output_scale\", model.covar_module.outputscale.item(), i)\n",
    "        #             writer.add_scalar(\"noise\", model.likelihood.noise.item(), i)\n",
    "\n",
    "        optimizer.step()"
   ]
  },
  {
   "cell_type": "code",
   "execution_count": 8,
   "id": "b8fe0212-d50c-4643-882f-f7649114b54c",
   "metadata": {},
   "outputs": [
    {
     "data": {
      "application/vnd.jupyter.widget-view+json": {
       "model_id": "e7bc37a314044c52a55b461df5575d77",
       "version_major": 2,
       "version_minor": 0
      },
      "text/plain": [
       "  0%|          | 0/10000 [00:00<?, ?it/s]"
      ]
     },
     "metadata": {},
     "output_type": "display_data"
    },
    {
     "name": "stdout",
     "output_type": "stream",
     "text": [
      "CPU times: user 40min 28s, sys: 37.2 s, total: 41min 5s\n",
      "Wall time: 1min 34s\n"
     ]
    }
   ],
   "source": [
    "now = datetime.now()\n",
    "log_dir = \"logs/gp/\" + now.strftime(\"%Y%m%d-%H%M%S\") + \"/\"\n",
    "# default `log_dir` is \"runs\" - we'll be more specific here\n",
    "writer = SummaryWriter(log_dir)\n",
    "\n",
    "training_iterations = 10000\n",
    "%time train()"
   ]
  },
  {
   "cell_type": "code",
   "execution_count": 94,
   "id": "b1bccf41-e765-4287-b439-6db890bf63d0",
   "metadata": {},
   "outputs": [
    {
     "data": {
      "text/plain": [
       "tensor(-0.5426, device='cuda:0', grad_fn=<SelectBackward>)"
      ]
     },
     "execution_count": 94,
     "metadata": {},
     "output_type": "execute_result"
    }
   ],
   "source": [
    "model.offset[0, 0]"
   ]
  },
  {
   "cell_type": "code",
   "execution_count": 9,
   "id": "1b02a250-f550-4793-9308-37b05d790dc2",
   "metadata": {},
   "outputs": [],
   "source": [
    "likelihood.eval()\n",
    "model.eval()\n",
    "observed_pred = model(coords_tensor)\n",
    "mean = observed_pred.mean.detach() + train_y_mean\n",
    "var = observed_pred.variance.detach()"
   ]
  },
  {
   "cell_type": "code",
   "execution_count": 11,
   "id": "bdc6b90c-9a44-421b-b33f-386957a43e72",
   "metadata": {},
   "outputs": [],
   "source": [
    "save_result(\"result_4\", \"free_path\", sensor_num, mean.cpu().numpy(), var.cpu().numpy())"
   ]
  },
  {
   "cell_type": "code",
   "execution_count": 10,
   "id": "english-sally",
   "metadata": {},
   "outputs": [
    {
     "data": {
      "image/png": "[encoded data removed]",
      "text/plain": [
       "<Figure size 432x288 with 2 Axes>"
      ]
     },
     "metadata": {
      "needs_background": "light"
     },
     "output_type": "display_data"
    }
   ],
   "source": [
    "fig, ax = plt.subplots()\n",
    "plot_heatmap(\n",
    "    coords,\n",
    "    mean,\n",
    "    ax=ax,\n",
    "    robust=True,\n",
    "    cbar=True,\n",
    "    #     vmin=-103,\n",
    "    #     vmax=-63,\n",
    ")"
   ]
  },
  {
   "cell_type": "code",
   "execution_count": null,
   "id": "interracial-sharing",
   "metadata": {},
   "outputs": [],
   "source": [
    "mean"
   ]
  },
  {
   "cell_type": "code",
   "execution_count": 21,
   "id": "developed-cutting",
   "metadata": {},
   "outputs": [],
   "source": [
    "temp = 1.0 + torch.exp(torch.tensor(1.5)) / 2.0"
   ]
  },
  {
   "cell_type": "code",
   "execution_count": 22,
   "id": "occupational-cleanup",
   "metadata": {},
   "outputs": [
    {
     "data": {
      "text/plain": [
       "tensor(3.2408)"
      ]
     },
     "execution_count": 22,
     "metadata": {},
     "output_type": "execute_result"
    }
   ],
   "source": [
    "temp"
   ]
  },
  {
   "cell_type": "code",
   "execution_count": 21,
   "id": "specified-introduction",
   "metadata": {},
   "outputs": [],
   "source": [
    "point = torch.tensor([[2.5, -2.5]]).to(device)\n",
    "warp_model(point)"
   ]
  },
  {
   "cell_type": "code",
   "execution_count": 22,
   "id": "polyphonic-officer",
   "metadata": {},
   "outputs": [
    {
     "data": {
      "text/plain": [
       "tensor([[ 2.6314, -1.8408]], device='cuda:0', grad_fn=<StackBackward>)"
      ]
     },
     "execution_count": 22,
     "metadata": {},
     "output_type": "execute_result"
    }
   ],
   "source": []
  },
  {
   "cell_type": "code",
   "execution_count": 13,
   "id": "813eb8df-32e7-4dec-8fbf-2dbc69341392",
   "metadata": {},
   "outputs": [
    {
     "data": {
      "text/plain": [
       "tensor([[0.6931]], device='cuda:0', grad_fn=<SoftplusBackward>)"
      ]
     },
     "execution_count": 13,
     "metadata": {},
     "output_type": "execute_result"
    }
   ],
   "source": [
    "model.covar_module.kernels[1].base_kernel.lengthscale"
   ]
  },
  {
   "cell_type": "code",
   "execution_count": null,
   "id": "dc32a5c0-0fe6-4239-92d5-1ee879e70712",
   "metadata": {},
   "outputs": [],
   "source": []
  }
 ],
 "metadata": {
  "kernelspec": {
   "display_name": "Python [conda env:GPTor_cuda]",
   "language": "python",
   "name": "conda-env-GPTor_cuda-py"
  },
  "language_info": {
   "codemirror_mode": {
    "name": "ipython",
    "version": 3
   },
   "file_extension": ".py",
   "mimetype": "text/x-python",
   "name": "python",
   "nbconvert_exporter": "python",
   "pygments_lexer": "ipython3",
   "version": "3.8.8"
  }
 },
 "nbformat": 4,
 "nbformat_minor": 5
}
