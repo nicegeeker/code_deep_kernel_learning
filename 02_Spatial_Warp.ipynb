{
 "cells": [
  {
   "cell_type": "code",
   "execution_count": 1,
   "id": "9bf7d88f",
   "metadata": {},
   "outputs": [
    {
     "name": "stdout",
     "output_type": "stream",
     "text": [
      "Using cuda device\n"
     ]
    }
   ],
   "source": [
    "import gpytorch\n",
    "import matplotlib.pyplot as plt\n",
    "import torch\n",
    "from func_data_generation import *\n",
    "from func_polygon import *\n",
    "from torch import nn\n",
    "from utils import *\n",
    "from warp_units import *\n",
    "\n",
    "# from torchsummary import summary\n",
    "\n",
    "\n",
    "dtype = torch.double\n",
    "device = \"cuda\" if torch.cuda.is_available() else \"cpu\"\n",
    "# device =  \"cpu\"\n",
    "print(\"Using {} device\".format(device))\n",
    "\n",
    "import tqdm\n",
    "\n",
    "torch.set_default_dtype(dtype)\n",
    "%matplotlib inline\n",
    "%load_ext autoreload\n",
    "%autoreload 2\n",
    "from datetime import datetime\n",
    "\n",
    "from torch.utils.tensorboard import SummaryWriter"
   ]
  },
  {
   "cell_type": "code",
   "execution_count": 2,
   "id": "35ccbe82-ccac-4ccd-9c7f-1b32361ee09a",
   "metadata": {},
   "outputs": [],
   "source": [
    "class ScaleToBounds(torch.nn.Module):\n",
    "    \"\"\"\n",
    "    Scale the input data so that it lies in between the lower and upper bounds.\n",
    "\n",
    "    In training (`self.train()`), this module adjusts the scaling factor to the minibatch of data.\n",
    "    During evaluation (`self.eval()`), this module uses the scaling factor from the previous minibatch of data.\n",
    "\n",
    "    :param float lower_bound: lower bound of scaled data\n",
    "    :param float upper_bound: upper bound of scaled data\n",
    "\n",
    "    Example:\n",
    "        >>> train_x = torch.randn(10, 5)\n",
    "        >>> module = gpytorch.utils.grid.ScaleToBounds(lower_bound=-1., upper_bound=1.)\n",
    "        >>>\n",
    "        >>> module.train()\n",
    "        >>> scaled_train_x = module(train_x)  # Data should be between -0.95 and 0.95\n",
    "        >>>\n",
    "        >>> module.eval()\n",
    "        >>> test_x = torch.randn(10, 5)\n",
    "        >>> scaled_test_x = module(test_x)  # Scaling is based on train_x\n",
    "    \"\"\"\n",
    "\n",
    "    def __init__(self, lower_bound, upper_bound):\n",
    "        super().__init__()\n",
    "        self.lower_bound = float(lower_bound)\n",
    "        self.upper_bound = float(upper_bound)\n",
    "        self.register_buffer(\"min_val\", torch.tensor(lower_bound))\n",
    "        self.register_buffer(\"max_val\", torch.tensor(upper_bound))\n",
    "\n",
    "    def forward(self, x):\n",
    "        if self.training:\n",
    "            min_val = x.min()\n",
    "            max_val = x.max()\n",
    "            self.min_val.data = min_val\n",
    "            self.max_val.data = max_val\n",
    "        else:\n",
    "            min_val = self.min_val\n",
    "            max_val = self.max_val\n",
    "            # Clamp extreme values\n",
    "            x = x.clamp(min_val, max_val)\n",
    "\n",
    "        diff = max_val - min_val\n",
    "        x = (x - min_val) * (\n",
    "            0.95 * (self.upper_bound - self.lower_bound) / diff\n",
    "        ) + 0.95 * self.lower_bound\n",
    "        return x"
   ]
  },
  {
   "cell_type": "code",
   "execution_count": 3,
   "id": "01600b89",
   "metadata": {},
   "outputs": [],
   "source": [
    "class WarpModel(torch.nn.Sequential):\n",
    "    def __init__(self):\n",
    "        super(WarpModel, self).__init__()\n",
    "        self.add_module(\n",
    "            \"axial_dim0\", AxialWarpUnit(dim=0, res=20, grad=20, lims=[0, 1.0])\n",
    "        )\n",
    "        self.add_module(\n",
    "            \"axial_dim1\", AxialWarpUnit(dim=1, res=20, grad=20, lims=[-1.0, 0])\n",
    "        )\n",
    "        #         self.add_module(\"rbf_seq1\", rbfunit_sequential(res=1, ylim=[-1.0, 0.0]))\n",
    "        self.add_module(\"rbf_seq2\", rbfunit_sequential(res=2, ylim=[-1.0, 0.0]))\n",
    "\n",
    "        #         self.add_module(\"rbf_seq3\", rbfunit_sequential(res=3, ylim=[-1, 0]))\n",
    "\n",
    "        self.add_module(\"mobius\", MobiusWarpUnit())\n",
    "\n",
    "\n",
    "class GPRegressionModel(gpytorch.models.ExactGP):\n",
    "    def __init__(self, train_x, train_y, likelihood, warp_model):\n",
    "        super(GPRegressionModel, self).__init__(train_x, train_y, likelihood)\n",
    "        self.mean_module = gpytorch.means.ZeroMean()\n",
    "        self.covar_module = gpytorch.kernels.ScaleKernel(gpytorch.kernels.RBFKernel())\n",
    "        #         self.covar_module = gpytorch.kernels.SpectralMixtureKernel(\n",
    "        #             num_mixtures=4, ard_num_dims=2\n",
    "        #         )\n",
    "        #         self.covar_module2 = gpytorch.kernels.ScaleKernel(\n",
    "        #             gpytorch.kernels.PolynomialKernel(1, active_dimes=[0])\n",
    "        #             * gpytorch.kernels.PolynomialKernel(1, active_dimes=[1])\n",
    "        #         )\n",
    "        #         self.covar_module2 = gpytorch.kernels.ScaleKernel(\n",
    "        #             gpytorch.kernels.PolynomialKernel(power=2)\n",
    "        #         )\n",
    "        #         self.covar_module2 = gpytorch.kernels.ScaleKernel(gpytorch.kernels.RBFKernel())\n",
    "        self.space_transform = warp_model\n",
    "        self.scale_to_bounds = ScaleToBounds(0, 1)\n",
    "\n",
    "        #         self.register_parameter(\n",
    "        #             name=\"offset\", parameter=torch.nn.Parameter(torch.zeros(1, 2))\n",
    "        #         )\n",
    "\n",
    "    #         self.w1 = 0.5\n",
    "    #         self.w2 = 0.5\n",
    "\n",
    "    def forward(self, x):\n",
    "        # We're first putting our data through a deep net (feature extractor)\n",
    "        # We're also scaling the features so that they're nice values\n",
    "        projected_x = self.space_transform(x)\n",
    "        projected_x = self.scale_to_bounds(projected_x)\n",
    "        #         projected_x[:, 1] = self.scale_to_bounds_2(projected_x[:, 1])\n",
    "\n",
    "        mean_x = self.mean_module(projected_x)\n",
    "        covar_x = self.covar_module(projected_x)  # + self.covar_module2(x)\n",
    "        return gpytorch.distributions.MultivariateNormal(mean_x, covar_x)"
   ]
  },
  {
   "cell_type": "code",
   "execution_count": 7,
   "id": "5a569312-06b7-46fc-9723-9c7146a468bc",
   "metadata": {},
   "outputs": [],
   "source": [
    "data_num = 2\n",
    "sensor_num = 200  # [50, 100, 150, 200, 250, 300, 350, 400, 450, 500]\n",
    "\n",
    "# load data\n",
    "coords, shadow, shadow_noise, train_X, train_y, idx = load_data(data_num, sensor_num)"
   ]
  },
  {
   "cell_type": "code",
   "execution_count": 8,
   "id": "14a28038-e7d0-4d5e-b910-9ba2852595d7",
   "metadata": {},
   "outputs": [
    {
     "data": {
      "image/png": "[encoded data removed]",
      "text/plain": [
       "<Figure size 1440x720 with 4 Axes>"
      ]
     },
     "metadata": {
      "needs_background": "light"
     },
     "output_type": "display_data"
    }
   ],
   "source": [
    "fig, axes = plt.subplots(1, 2, figsize=(20, 10))\n",
    "plot_heatmap(coords, shadow, ax=axes[0], robust=True, cbar=True)\n",
    "plot_heatmap(\n",
    "    coords,\n",
    "    shadow,\n",
    "    mask_idx=idx,\n",
    "    ax=axes[1],\n",
    "    cbar=True,\n",
    ")"
   ]
  },
  {
   "cell_type": "code",
   "execution_count": null,
   "id": "bd435b49-3096-467c-b00b-ae988c718cbe",
   "metadata": {},
   "outputs": [],
   "source": []
  },
  {
   "cell_type": "code",
   "execution_count": 9,
   "id": "62d84aba-0d6a-417a-a655-a2e808defb76",
   "metadata": {},
   "outputs": [],
   "source": [
    "# Normalize train_X to 0-1\n",
    "train_X_tensor = torch.from_numpy(train_X).to(device) / 1000\n",
    "coords_tensor = torch.from_numpy(coords).to(device) / 1000\n",
    "\n",
    "train_y_tensor = torch.from_numpy(train_y).to(device)\n",
    "# train_y_mean = train_y_tensor.mean()\n",
    "# train_y_tensor = train_y_tensor - train_y_mean\n",
    "# train_y_sigma = torch.sqrt(train_y_tensor.var())\n",
    "# train_y_tensor = (train_y_tensor - train_y_mean) / train_y_sigma"
   ]
  },
  {
   "cell_type": "code",
   "execution_count": 10,
   "id": "6386f116",
   "metadata": {},
   "outputs": [],
   "source": [
    "random_seed = 22\n",
    "torch.manual_seed(random_seed)\n",
    "torch.cuda.manual_seed(random_seed)\n",
    "\n",
    "warp_model = WarpModel().to(device)\n",
    "likelihood = gpytorch.likelihoods.GaussianLikelihood().to(device)\n",
    "gp_model = GPRegressionModel(\n",
    "    train_x=train_X_tensor,\n",
    "    train_y=train_y_tensor,\n",
    "    likelihood=likelihood,\n",
    "    warp_model=warp_model,\n",
    ").to(device)\n",
    "gp_model.likelihood.noise = 0.2\n",
    "gp_model.covar_module.base_kernel.lengthscale = 0.07487\n",
    "gp_model.covar_module.outputscale = 10"
   ]
  },
  {
   "cell_type": "code",
   "execution_count": 11,
   "id": "c083902b-7071-4062-9326-707904c17451",
   "metadata": {},
   "outputs": [],
   "source": [
    "test_model = nn.Sequential()\n",
    "test_model.add_module(\"warp_model\", warp_model)\n",
    "test_model.add_module(\"scal_model_1\", gp_model.scale_to_bounds)\n",
    "# test_model.add_module(\"scal_model_2\", gp_model.scale_to_bounds_2)"
   ]
  },
  {
   "cell_type": "code",
   "execution_count": 12,
   "id": "aacc16ac",
   "metadata": {},
   "outputs": [
    {
     "data": {
      "image/png": "[encoded data removed]",
      "text/plain": [
       "<Figure size 432x432 with 1 Axes>"
      ]
     },
     "metadata": {
      "needs_background": "light"
     },
     "output_type": "display_data"
    }
   ],
   "source": [
    "chessboard_from_model(test_model, chessgrid_res=40)"
   ]
  },
  {
   "cell_type": "code",
   "execution_count": 13,
   "id": "ad898d6c",
   "metadata": {},
   "outputs": [],
   "source": [
    "# for name, param in gp_model.named_parameters():\n",
    "#     print(f\"Layer:{name} | Size:{param.size()} | Values : {param} \\n\")"
   ]
  },
  {
   "cell_type": "code",
   "execution_count": 14,
   "id": "fe8b6115",
   "metadata": {},
   "outputs": [],
   "source": [
    "# Use the adam optimizer\n",
    "optimizer = torch.optim.Adam(\n",
    "    [\n",
    "        #         {\"params\": gp_model.offset, \"lr\": 0.1},\n",
    "        {\"params\": gp_model.space_transform.parameters()},\n",
    "        {\"params\": gp_model.covar_module.parameters()},\n",
    "        #         {\"params\": gp_model.covar_module2.raw_outputscale},\n",
    "        #         {\"params\": gp_model.covar_module2.parameters()},\n",
    "        #         {\"params\": gp_model.mean_module.parameters()},\n",
    "        {\"params\": gp_model.likelihood.parameters()},\n",
    "    ],\n",
    "    lr=0.01,\n",
    ")\n",
    "\n",
    "# \"Loss\" for GPs - the marginal log likelihood\n",
    "mll = gpytorch.mlls.ExactMarginalLogLikelihood(likelihood, gp_model)\n",
    "\n",
    "\n",
    "def train():\n",
    "    iterator = tqdm.notebook.tqdm(range(training_iterations))\n",
    "    for i in iterator:\n",
    "        # Zero backprop gradients\n",
    "        optimizer.zero_grad()\n",
    "        # Get output from model\n",
    "        output = gp_model(train_X_tensor)\n",
    "        # Calc loss and backprop derivatives\n",
    "        loss = -mll(output, train_y_tensor)\n",
    "        loss.backward()\n",
    "        if i % 10 == 9:\n",
    "            writer.add_scalar(\"loss\", loss.item(), i)\n",
    "            writer.add_scalar(\n",
    "                \"length_scale1\", gp_model.covar_module.base_kernel.lengthscale.item(), i\n",
    "            )\n",
    "            writer.add_scalar(\n",
    "                \"output_scale1\", gp_model.covar_module.outputscale.item(), i\n",
    "            )\n",
    "            #             writer.add_scalar(\n",
    "            #                 \"output_scale\", gp_model.covar_module2.outputscale.item(), i\n",
    "            #             )\n",
    "            #             #             writer.add_scalar(\"offset0\", gp_model.offset[0, 0].item(), i)\n",
    "            #             #             writer.add_scalar(\"offset1\", gp_model.offset[0, 1].item(), i)\n",
    "            #             writer.add_scalar(\n",
    "            #                 \"length_scale\",\n",
    "            #                 gp_model.covar_module2.base_kernel.lengthscale.item(),\n",
    "            #                 i,\n",
    "            #             )\n",
    "            writer.add_scalar(\"noise\", gp_model.likelihood.noise.item(), i)\n",
    "\n",
    "        optimizer.step()"
   ]
  },
  {
   "cell_type": "code",
   "execution_count": 15,
   "id": "95969bf8-003d-4c3e-b577-7feaf3da304d",
   "metadata": {},
   "outputs": [
    {
     "data": {
      "application/vnd.jupyter.widget-view+json": {
       "model_id": "ab6228d8313a42afa09ae78c0284c3f3",
       "version_major": 2,
       "version_minor": 0
      },
      "text/plain": [
       "  0%|          | 0/10000 [00:00<?, ?it/s]"
      ]
     },
     "metadata": {},
     "output_type": "display_data"
    },
    {
     "name": "stdout",
     "output_type": "stream",
     "text": [
      "CPU times: user 1h 24min 59s, sys: 43.3 s, total: 1h 25min 42s\n",
      "Wall time: 9min 18s\n"
     ]
    }
   ],
   "source": [
    "# gp_model.w1 = 0\n",
    "# gp_model.w2 = 1\n",
    "# gp_model.w1 = 0.2\n",
    "# gp_model.w2 = 0.8\n",
    "\n",
    "gp_model.train()\n",
    "likelihood.train()\n",
    "\n",
    "now = datetime.now()\n",
    "log_dir = \"logs/warpgp/\" + now.strftime(\"%Y%m%d-%H%M%S\") + \"/\"\n",
    "# default `log_dir` is \"runs\" - we'll be more specific here\n",
    "writer = SummaryWriter(log_dir)\n",
    "\n",
    "\n",
    "training_iterations = 10000\n",
    "%time train()"
   ]
  },
  {
   "cell_type": "code",
   "execution_count": null,
   "id": "c8c686fb",
   "metadata": {},
   "outputs": [],
   "source": [
    "# for name, param in gp_model.named_parameters():\n",
    "#     print(f\"Layer:{name} | Size:{param.size()} | Values : {param} \\n\")"
   ]
  },
  {
   "cell_type": "code",
   "execution_count": 17,
   "id": "54546f79-447d-42d3-93bf-c7314fc5508b",
   "metadata": {},
   "outputs": [
    {
     "name": "stdout",
     "output_type": "stream",
     "text": [
      "sigma=9.944\n",
      "l=0.143\n"
     ]
    }
   ],
   "source": [
    "sigma = gp_model.covar_module.outputscale.item()\n",
    "l = gp_model.covar_module.base_kernel.lengthscale.item()\n",
    "print(\"sigma=%.3f\" % gp_model.covar_module.outputscale.item())\n",
    "print(\"l=%.3f\" % gp_model.covar_module.base_kernel.lengthscale.item())"
   ]
  },
  {
   "cell_type": "code",
   "execution_count": null,
   "id": "1cfeda57",
   "metadata": {},
   "outputs": [],
   "source": [
    "chessboard_from_model(warp_model, chessgrid_res=40)"
   ]
  },
  {
   "cell_type": "code",
   "execution_count": null,
   "id": "cc9baa65",
   "metadata": {},
   "outputs": [],
   "source": [
    "likelihood.eval()\n",
    "gp_model.eval()\n",
    "# gp_model.w1 = 0.2\n",
    "# gp_model.w2 = 0.8\n",
    "observed_pred = gp_model(coords_tensor)\n",
    "mean = observed_pred.mean.detach()\n",
    "var = observed_pred.variance.detach()"
   ]
  },
  {
   "cell_type": "code",
   "execution_count": null,
   "id": "031d6865",
   "metadata": {},
   "outputs": [],
   "source": [
    "fig, axes = plt.subplots(1, 2, figsize=(20, 10))\n",
    "plot_heatmap(coords, mean, ax=axes[0], cbar=True, robust=True)\n",
    "# plot_heatmap(coords, mean, ax=axes[0], vmin=-103, vmax=-63, cbar=True)\n",
    "plot_heatmap(coords, var, ax=axes[1], cbar=True)"
   ]
  },
  {
   "cell_type": "code",
   "execution_count": null,
   "id": "5594412f",
   "metadata": {},
   "outputs": [],
   "source": [
    "save_result(\"result_6\", \"warpgp\", sensor_num, mean.cpu().numpy(), var.cpu().numpy())"
   ]
  },
  {
   "cell_type": "code",
   "execution_count": 18,
   "id": "bc4e3db4",
   "metadata": {},
   "outputs": [
    {
     "data": {
      "application/vnd.jupyter.widget-view+json": {
       "model_id": "c33e134cf9294cc2a25c5b661d8c6501",
       "version_major": 2,
       "version_minor": 0
      },
      "text/plain": [
       "  0%|          | 0/30000 [00:00<?, ?it/s]"
      ]
     },
     "metadata": {},
     "output_type": "display_data"
    },
    {
     "data": {
      "application/vnd.jupyter.widget-view+json": {
       "model_id": "0e75e81d420940ce8c44b677d9fbc3ef",
       "version_major": 2,
       "version_minor": 0
      },
      "text/plain": [
       "  0%|          | 0/30000 [00:00<?, ?it/s]"
      ]
     },
     "metadata": {},
     "output_type": "display_data"
    },
    {
     "data": {
      "application/vnd.jupyter.widget-view+json": {
       "model_id": "f0f9ab42aaae4bcdb86f19365ec597b3",
       "version_major": 2,
       "version_minor": 0
      },
      "text/plain": [
       "  0%|          | 0/30000 [00:00<?, ?it/s]"
      ]
     },
     "metadata": {},
     "output_type": "display_data"
    },
    {
     "data": {
      "application/vnd.jupyter.widget-view+json": {
       "model_id": "ac9173ba90594207a4819516b1ad9502",
       "version_major": 2,
       "version_minor": 0
      },
      "text/plain": [
       "  0%|          | 0/30000 [00:00<?, ?it/s]"
      ]
     },
     "metadata": {},
     "output_type": "display_data"
    },
    {
     "data": {
      "application/vnd.jupyter.widget-view+json": {
       "model_id": "19f1ae33497040e39635c28d101672b4",
       "version_major": 2,
       "version_minor": 0
      },
      "text/plain": [
       "  0%|          | 0/30000 [00:00<?, ?it/s]"
      ]
     },
     "metadata": {},
     "output_type": "display_data"
    },
    {
     "data": {
      "application/vnd.jupyter.widget-view+json": {
       "model_id": "82779213aca94e4dbf7a9ca15c00cb48",
       "version_major": 2,
       "version_minor": 0
      },
      "text/plain": [
       "  0%|          | 0/30000 [00:00<?, ?it/s]"
      ]
     },
     "metadata": {},
     "output_type": "display_data"
    },
    {
     "data": {
      "application/vnd.jupyter.widget-view+json": {
       "model_id": "149ff7ade69444d393c85913e5a0586e",
       "version_major": 2,
       "version_minor": 0
      },
      "text/plain": [
       "  0%|          | 0/30000 [00:00<?, ?it/s]"
      ]
     },
     "metadata": {},
     "output_type": "display_data"
    },
    {
     "data": {
      "application/vnd.jupyter.widget-view+json": {
       "model_id": "c4057b699ad048d9b80ed650a0adec97",
       "version_major": 2,
       "version_minor": 0
      },
      "text/plain": [
       "  0%|          | 0/30000 [00:00<?, ?it/s]"
      ]
     },
     "metadata": {},
     "output_type": "display_data"
    },
    {
     "data": {
      "application/vnd.jupyter.widget-view+json": {
       "model_id": "dcccfa06434344b988a7e189a84e6280",
       "version_major": 2,
       "version_minor": 0
      },
      "text/plain": [
       "  0%|          | 0/30000 [00:00<?, ?it/s]"
      ]
     },
     "metadata": {},
     "output_type": "display_data"
    },
    {
     "data": {
      "application/vnd.jupyter.widget-view+json": {
       "model_id": "2fcfe49249c643a8b969eb4a3f4ccfbb",
       "version_major": 2,
       "version_minor": 0
      },
      "text/plain": [
       "  0%|          | 0/30000 [00:00<?, ?it/s]"
      ]
     },
     "metadata": {},
     "output_type": "display_data"
    },
    {
     "data": {
      "application/vnd.jupyter.widget-view+json": {
       "model_id": "421beb75068d44fe914b08092d750f77",
       "version_major": 2,
       "version_minor": 0
      },
      "text/plain": [
       "  0%|          | 0/30000 [00:00<?, ?it/s]"
      ]
     },
     "metadata": {},
     "output_type": "display_data"
    },
    {
     "data": {
      "application/vnd.jupyter.widget-view+json": {
       "model_id": "dc3a89276c1344c5815fe848acadcfd7",
       "version_major": 2,
       "version_minor": 0
      },
      "text/plain": [
       "  0%|          | 0/30000 [00:00<?, ?it/s]"
      ]
     },
     "metadata": {},
     "output_type": "display_data"
    },
    {
     "data": {
      "application/vnd.jupyter.widget-view+json": {
       "model_id": "05ba87879e2f45a5b7e82e98e19b8a98",
       "version_major": 2,
       "version_minor": 0
      },
      "text/plain": [
       "  0%|          | 0/30000 [00:00<?, ?it/s]"
      ]
     },
     "metadata": {},
     "output_type": "display_data"
    },
    {
     "data": {
      "application/vnd.jupyter.widget-view+json": {
       "model_id": "b3024e9484134a359a53a3caadc16de4",
       "version_major": 2,
       "version_minor": 0
      },
      "text/plain": [
       "  0%|          | 0/30000 [00:00<?, ?it/s]"
      ]
     },
     "metadata": {},
     "output_type": "display_data"
    },
    {
     "name": "stderr",
     "output_type": "stream",
     "text": [
      "/home/nicegeek/miniconda3/envs/GPTor_cuda/lib/python3.8/site-packages/gpytorch/distributions/multivariate_normal.py:259: NumericalWarning: Negative variance values detected. This is likely due to numerical instabilities. Rounding negative variances up to 1e-10.\n",
      "  warnings.warn(\n"
     ]
    },
    {
     "data": {
      "application/vnd.jupyter.widget-view+json": {
       "model_id": "3ad76ec5addc4ce1adb08693ccf49f2a",
       "version_major": 2,
       "version_minor": 0
      },
      "text/plain": [
       "  0%|          | 0/30000 [00:00<?, ?it/s]"
      ]
     },
     "metadata": {},
     "output_type": "display_data"
    },
    {
     "data": {
      "application/vnd.jupyter.widget-view+json": {
       "model_id": "2b87d1b719714847b81289a36b4de819",
       "version_major": 2,
       "version_minor": 0
      },
      "text/plain": [
       "  0%|          | 0/30000 [00:00<?, ?it/s]"
      ]
     },
     "metadata": {},
     "output_type": "display_data"
    },
    {
     "data": {
      "application/vnd.jupyter.widget-view+json": {
       "model_id": "d6073b2e6c0740bf999abc35aace8b65",
       "version_major": 2,
       "version_minor": 0
      },
      "text/plain": [
       "  0%|          | 0/30000 [00:00<?, ?it/s]"
      ]
     },
     "metadata": {},
     "output_type": "display_data"
    },
    {
     "data": {
      "application/vnd.jupyter.widget-view+json": {
       "model_id": "33b02c0f9db544168b9fc1c673e78499",
       "version_major": 2,
       "version_minor": 0
      },
      "text/plain": [
       "  0%|          | 0/30000 [00:00<?, ?it/s]"
      ]
     },
     "metadata": {},
     "output_type": "display_data"
    },
    {
     "data": {
      "application/vnd.jupyter.widget-view+json": {
       "model_id": "ead7cc155ed644468181a9d101f95e40",
       "version_major": 2,
       "version_minor": 0
      },
      "text/plain": [
       "  0%|          | 0/30000 [00:00<?, ?it/s]"
      ]
     },
     "metadata": {},
     "output_type": "display_data"
    },
    {
     "data": {
      "application/vnd.jupyter.widget-view+json": {
       "model_id": "2ba81d966c564a559a231bfce8a7b399",
       "version_major": 2,
       "version_minor": 0
      },
      "text/plain": [
       "  0%|          | 0/30000 [00:00<?, ?it/s]"
      ]
     },
     "metadata": {},
     "output_type": "display_data"
    },
    {
     "data": {
      "application/vnd.jupyter.widget-view+json": {
       "model_id": "a28bc79af4074afb862e666d4067b8d7",
       "version_major": 2,
       "version_minor": 0
      },
      "text/plain": [
       "  0%|          | 0/30000 [00:00<?, ?it/s]"
      ]
     },
     "metadata": {},
     "output_type": "display_data"
    },
    {
     "data": {
      "application/vnd.jupyter.widget-view+json": {
       "model_id": "fbb0b1fa93db4d11b9683d7b55352065",
       "version_major": 2,
       "version_minor": 0
      },
      "text/plain": [
       "  0%|          | 0/30000 [00:00<?, ?it/s]"
      ]
     },
     "metadata": {},
     "output_type": "display_data"
    },
    {
     "data": {
      "application/vnd.jupyter.widget-view+json": {
       "model_id": "8086e3da132342f49ba3daebe355db74",
       "version_major": 2,
       "version_minor": 0
      },
      "text/plain": [
       "  0%|          | 0/30000 [00:00<?, ?it/s]"
      ]
     },
     "metadata": {},
     "output_type": "display_data"
    },
    {
     "data": {
      "application/vnd.jupyter.widget-view+json": {
       "model_id": "56907a6f4c5d4618bb1f82248bcd48e2",
       "version_major": 2,
       "version_minor": 0
      },
      "text/plain": [
       "  0%|          | 0/30000 [00:00<?, ?it/s]"
      ]
     },
     "metadata": {},
     "output_type": "display_data"
    },
    {
     "data": {
      "application/vnd.jupyter.widget-view+json": {
       "model_id": "779f6b5faf944198b07e6e37bb364c02",
       "version_major": 2,
       "version_minor": 0
      },
      "text/plain": [
       "  0%|          | 0/30000 [00:00<?, ?it/s]"
      ]
     },
     "metadata": {},
     "output_type": "display_data"
    },
    {
     "data": {
      "application/vnd.jupyter.widget-view+json": {
       "model_id": "0a3d3b93ac36470abcecc4a8431f8464",
       "version_major": 2,
       "version_minor": 0
      },
      "text/plain": [
       "  0%|          | 0/30000 [00:00<?, ?it/s]"
      ]
     },
     "metadata": {},
     "output_type": "display_data"
    },
    {
     "data": {
      "application/vnd.jupyter.widget-view+json": {
       "model_id": "384ab06171c44c869da3ea71ba393529",
       "version_major": 2,
       "version_minor": 0
      },
      "text/plain": [
       "  0%|          | 0/30000 [00:00<?, ?it/s]"
      ]
     },
     "metadata": {},
     "output_type": "display_data"
    },
    {
     "data": {
      "application/vnd.jupyter.widget-view+json": {
       "model_id": "c004c1579b344070b54edad42e8416ac",
       "version_major": 2,
       "version_minor": 0
      },
      "text/plain": [
       "  0%|          | 0/30000 [00:00<?, ?it/s]"
      ]
     },
     "metadata": {},
     "output_type": "display_data"
    },
    {
     "data": {
      "application/vnd.jupyter.widget-view+json": {
       "model_id": "259669b68dcb4d96aa90f7ccef0aa173",
       "version_major": 2,
       "version_minor": 0
      },
      "text/plain": [
       "  0%|          | 0/30000 [00:00<?, ?it/s]"
      ]
     },
     "metadata": {},
     "output_type": "display_data"
    },
    {
     "data": {
      "application/vnd.jupyter.widget-view+json": {
       "model_id": "747e5db1a63f4dc49151da1f9bf91dff",
       "version_major": 2,
       "version_minor": 0
      },
      "text/plain": [
       "  0%|          | 0/30000 [00:00<?, ?it/s]"
      ]
     },
     "metadata": {},
     "output_type": "display_data"
    },
    {
     "data": {
      "application/vnd.jupyter.widget-view+json": {
       "model_id": "8429d9d92d40470185e8aee897a9da4d",
       "version_major": 2,
       "version_minor": 0
      },
      "text/plain": [
       "  0%|          | 0/30000 [00:00<?, ?it/s]"
      ]
     },
     "metadata": {},
     "output_type": "display_data"
    },
    {
     "data": {
      "application/vnd.jupyter.widget-view+json": {
       "model_id": "97ee8320f5f44e6d80364bf810709f50",
       "version_major": 2,
       "version_minor": 0
      },
      "text/plain": [
       "  0%|          | 0/30000 [00:00<?, ?it/s]"
      ]
     },
     "metadata": {},
     "output_type": "display_data"
    },
    {
     "data": {
      "application/vnd.jupyter.widget-view+json": {
       "model_id": "65bf82d1d4994794b4e68cb576bff139",
       "version_major": 2,
       "version_minor": 0
      },
      "text/plain": [
       "  0%|          | 0/30000 [00:00<?, ?it/s]"
      ]
     },
     "metadata": {},
     "output_type": "display_data"
    },
    {
     "data": {
      "application/vnd.jupyter.widget-view+json": {
       "model_id": "5654bfa2cb254a57bc14772f6451bef5",
       "version_major": 2,
       "version_minor": 0
      },
      "text/plain": [
       "  0%|          | 0/30000 [00:00<?, ?it/s]"
      ]
     },
     "metadata": {},
     "output_type": "display_data"
    },
    {
     "data": {
      "application/vnd.jupyter.widget-view+json": {
       "model_id": "d3ff9dbbd87b467faf690c728832b775",
       "version_major": 2,
       "version_minor": 0
      },
      "text/plain": [
       "  0%|          | 0/30000 [00:00<?, ?it/s]"
      ]
     },
     "metadata": {},
     "output_type": "display_data"
    },
    {
     "data": {
      "application/vnd.jupyter.widget-view+json": {
       "model_id": "652b85b116544d16ab5a63b0b7d19612",
       "version_major": 2,
       "version_minor": 0
      },
      "text/plain": [
       "  0%|          | 0/30000 [00:00<?, ?it/s]"
      ]
     },
     "metadata": {},
     "output_type": "display_data"
    },
    {
     "data": {
      "application/vnd.jupyter.widget-view+json": {
       "model_id": "449c3dbc347f4acdbda4aeeb5e200ba6",
       "version_major": 2,
       "version_minor": 0
      },
      "text/plain": [
       "  0%|          | 0/30000 [00:00<?, ?it/s]"
      ]
     },
     "metadata": {},
     "output_type": "display_data"
    }
   ],
   "source": [
    "data_num = 2\n",
    "result_file_name = \"/result_\" + str(data_num)\n",
    "\n",
    "for sensor_num in range(200, 2001, 50):\n",
    "\n",
    "    # load data\n",
    "    coords, shadow, shadow_noise, train_X, train_y, idx = load_data(\n",
    "        data_num, sensor_num\n",
    "    )\n",
    "\n",
    "    # Normalize train_X to 0-1\n",
    "    train_X_tensor = torch.from_numpy(train_X).to(device) / 1000\n",
    "    coords_tensor = torch.from_numpy(coords).to(device) / 1000\n",
    "\n",
    "    train_y_tensor = torch.from_numpy(train_y).to(device)\n",
    "    # initialize likelihood and model\n",
    "\n",
    "    random_seed = 22\n",
    "    torch.manual_seed(random_seed)\n",
    "    torch.cuda.manual_seed(random_seed)\n",
    "\n",
    "    warp_model = WarpModel().to(device)\n",
    "    likelihood = gpytorch.likelihoods.GaussianLikelihood().to(device)\n",
    "    gp_model = GPRegressionModel(\n",
    "        train_x=train_X_tensor,\n",
    "        train_y=train_y_tensor,\n",
    "        likelihood=likelihood,\n",
    "        warp_model=warp_model,\n",
    "    ).to(device)\n",
    "    gp_model.likelihood.noise = 0.2\n",
    "    gp_model.covar_module.base_kernel.lengthscale = l\n",
    "    gp_model.covar_module.outputscale = sigma\n",
    "\n",
    "    optimizer = torch.optim.Adam(\n",
    "        [\n",
    "            #         {\"params\": gp_model.offset, \"lr\": 0.1},\n",
    "            {\"params\": gp_model.space_transform.parameters()},\n",
    "            {\"params\": gp_model.covar_module.parameters()},\n",
    "            #         {\"params\": gp_model.covar_module2.raw_outputscale},\n",
    "            #         {\"params\": gp_model.covar_module2.parameters()},\n",
    "            #         {\"params\": gp_model.mean_module.parameters()},\n",
    "            {\"params\": gp_model.likelihood.parameters()},\n",
    "        ],\n",
    "        lr=0.01,\n",
    "    )\n",
    "\n",
    "    mll = gpytorch.mlls.ExactMarginalLogLikelihood(likelihood, gp_model)\n",
    "\n",
    "    # Define tensorboard writer\n",
    "    now = datetime.now()\n",
    "    log_dir = \"logs/warpgp/\" + now.strftime(\"%Y%m%d-%H%M%S\") + \"/\"\n",
    "    writer = SummaryWriter(log_dir)\n",
    "\n",
    "    gp_model.train()\n",
    "    likelihood.train()\n",
    "\n",
    "    # Train\n",
    "    training_iterations = 30000\n",
    "    train()\n",
    "\n",
    "    likelihood.eval()\n",
    "    gp_model.eval()\n",
    "    observed_pred = gp_model(coords_tensor)\n",
    "    mean = observed_pred.mean.detach()\n",
    "    var = observed_pred.variance.detach()\n",
    "\n",
    "    save_result(\n",
    "        result_file_name, \"warpgp\", sensor_num, mean.cpu().numpy(), var.cpu().numpy()\n",
    "    )"
   ]
  },
  {
   "cell_type": "code",
   "execution_count": null,
   "id": "a259125b-3871-4e8e-83e3-d18f0fdd08f0",
   "metadata": {},
   "outputs": [],
   "source": []
  }
 ],
 "metadata": {
  "kernelspec": {
   "display_name": "Python [conda env:GPTor_cuda]",
   "language": "python",
   "name": "conda-env-GPTor_cuda-py"
  },
  "language_info": {
   "codemirror_mode": {
    "name": "ipython",
    "version": 3
   },
   "file_extension": ".py",
   "mimetype": "text/x-python",
   "name": "python",
   "nbconvert_exporter": "python",
   "pygments_lexer": "ipython3",
   "version": "3.8.8"
  }
 },
 "nbformat": 4,
 "nbformat_minor": 5
}
